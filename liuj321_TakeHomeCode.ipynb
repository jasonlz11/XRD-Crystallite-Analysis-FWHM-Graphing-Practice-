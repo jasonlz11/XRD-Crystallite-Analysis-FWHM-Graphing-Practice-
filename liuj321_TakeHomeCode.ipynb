{
 "cells": [
  {
   "cell_type": "markdown",
   "metadata": {},
   "source": [
    "# Major 4/5 Replacement Assignment\n",
    "Please follow this template in implementing your solution for the take-home assignment. TAs will only consider the code provided in the `CODE CELL` to mark your work. The `TESTING CELL` is provided for your convenience (and to remind you to test your code periodically as you implement your solutions to the given problems!).\n",
    "\n",
    "Remember to:\n",
    "1. `Save and Checkpoint` often!\n",
    "2. `Restart the kernel and Run all cells` to ensure that everything is working properly prior to submission.\n",
    "\n",
    "Good Luck!\n",
    "***"
   ]
  },
  {
   "cell_type": "code",
   "execution_count": 1,
   "metadata": {},
   "outputs": [],
   "source": [
    "# name: Jason Liu\n",
    "# macID: liuj321"
   ]
  },
  {
   "cell_type": "markdown",
   "metadata": {},
   "source": [
    "## PROBLEM 1"
   ]
  },
  {
   "cell_type": "markdown",
   "metadata": {},
   "source": [
    "### CODE CELL"
   ]
  },
  {
   "cell_type": "code",
   "execution_count": 2,
   "metadata": {},
   "outputs": [],
   "source": [
    "# Start by importing pylab for graphing and math for various math functions\n",
    "import pylab\n",
    "import math\n",
    "\n",
    "# Make a separate function for graphing, imports x and y values (first determined by XRD_Analysis)\n",
    "def graph(x,y):\n",
    "        \n",
    "    # Simply plots and labels the graph\n",
    "    pylab.title('Intensity vs 2θ')\n",
    "    pylab.xlabel('2θ (deg.)')\n",
    "    pylab.ylabel('Intensity (a.u.)')\n",
    "    pylab.plot(x,y)\n",
    "    pylab.show()\n",
    "    \n",
    "    return\n",
    "\n",
    "# This function calculates the closest two leftmost data points to any specified value, in this case, the half maximum value\n",
    "def closest_datapoints(x,y,halfpeaks,peakscenter):\n",
    "    \n",
    "    # Initializing several lists for calculations of the actual data\n",
    "    # These two lists are used  to find the closest values above and below the half maximum value\n",
    "    listupper = []\n",
    "    listlower = []\n",
    "    \n",
    "    # Runs a for loop to find the closest data points for each half peak\n",
    "    for i in range(len(halfpeaks)):\n",
    "        \n",
    "        # Initializing values for calculations\n",
    "        # These values are used to determine the closest two data points above and below the half maximum value for each peak\n",
    "        uppery = 100\n",
    "        upperx = 0\n",
    "        lowery = 0\n",
    "        lowerx = 0\n",
    "    \n",
    "        # A nested for loop that checks every value in the data set\n",
    "        for j in range(len(y)):\n",
    "            # If statements to determine the above and below values\n",
    "            # The data points must be very close to the peaks (distance < 1) to be counted\n",
    "            # This is to prevent any other data point with similar intensity being accidentally calculated\n",
    "            if y[j] > lowery and y[j] < halfpeaks[i] and x[j] < peakscenter[i] and (peakscenter[i] - x[j]) < 1:\n",
    "                lowery = y[j]\n",
    "                lowerx = x[j]\n",
    "            if y[j] < uppery and y[j] > halfpeaks[i] and x[j] < peakscenter[i] and (peakscenter[i] - x[j]) < 1:\n",
    "                uppery = y[j]\n",
    "                upperx = x[j]\n",
    "                \n",
    "        # Stores the calculated values into lists to be used later\n",
    "        listlower.append(lowerx)\n",
    "        listlower.append(lowery)\n",
    "        listupper.append(upperx)\n",
    "        listupper.append(uppery)\n",
    "    \n",
    "    # Finally returns the two closest data points in two lists with the x value first followed by the y value, a list for the lower point and a list for the higher point\n",
    "    return listlower, listupper\n",
    "\n",
    "# This function calculates the average size given several values for full width at half maximum\n",
    "# This function assumes the given full width half maximum value is in degrees\n",
    "def calculate_average_size(wavelength, fwhm):\n",
    "    \n",
    "    # Initializes the variable to store the calculated average size\n",
    "    size_average = 0\n",
    "    \n",
    "    # Runs a for loop that adds the calculation for the nanoparticle size to the average list using the given equation\n",
    "    for i in range(len(fwhm)):\n",
    "        # First converts the angle into radians\n",
    "        fwhm[i] = fwhm[i]*(math.pi/180)\n",
    "        # Adds each calculated nanoparticle size to the total average\n",
    "        size_average += (0.9*wavelength)/(fwhm[i]*math.cos(fwhm[i]/2))\n",
    "        \n",
    "    # Divides by the total number of nanoparticle sizes to calculate the average size\n",
    "    size_average = size_average/len(fwhm)\n",
    "    \n",
    "    # Returns the average size    \n",
    "    return size_average\n",
    "\n",
    "# Main function\n",
    "def XRD_Analysis(file):\n",
    "    \n",
    "    # First opens and reads the file, storing it in a variable\n",
    "    infile = open(file, 'r')\n",
    "    data = infile.read()\n",
    "    infile.close()\n",
    "    data = data.split()\n",
    "    # After closing the file, Splits the information so it is easier to read\n",
    "    \n",
    "    # Initializing variables (x is the x-axis on the graph, or 2𝜃 values, and y is the y-axis, or intensity values)\n",
    "    x = []\n",
    "    y = []\n",
    "    # peaks represents the peak intensity values \n",
    "    peaks = []\n",
    "    # peakscenter represents the x-values at each peak\n",
    "    peakscenter = []\n",
    "    # halfpeaks represents half the intensity of each peak\n",
    "    halfpeaks = []\n",
    "    \n",
    "    # i is used as a counter for a while-loop\n",
    "    i = 0\n",
    "    while i != len(data):\n",
    "        # This loop orders the data from the file into x and y values accordingly\n",
    "        # It also remembers which values are peaks (have asterisks) and then removes the asterisks and converts it in floats to be used in calculations\n",
    "        x.append(float(data[i]))\n",
    "        if '*' in data[i+1]:\n",
    "            y.append(float(data[i+1].replace('*', '')))\n",
    "            peaks.append(float(data[i+1].replace('*', '')))\n",
    "            halfpeaks.append(float(data[i+1].replace('*', ''))/2)\n",
    "            peakscenter.append(float(data[i]))\n",
    "        else:\n",
    "            y.append(float(data[i+1]))\n",
    "        i += 2\n",
    "    \n",
    "    # Now that the x and y values are sorted, run the graphing function with the x and y lists to create the graph\n",
    "    graph(x,y)\n",
    "    \n",
    "    # Run the function to calculate the closest data points\n",
    "    listlower, listupper = closest_datapoints(x,y,halfpeaks,peakscenter)\n",
    "    \n",
    "    # approximatex is used to store the approximate x value for each half maximum value on the left side of the graph\n",
    "    # Only calculates leftmost points for simplicity and ease, then multiplies the value by 2 to find the full width half maximum\n",
    "    approximatex = []\n",
    "    # fwhm is the distance between the peakscenter and the approximatex value, initially in degrees\n",
    "    fwhm = []\n",
    "    wavelength = 0.07107\n",
    "        \n",
    "    # Initializes two variables, simply used to break the equation up to make it easier to calculate\n",
    "    # The equation is the equation for linear interpolation rearranged to solve for an unknown x with two known coordinates and a known y value\n",
    "    equationupper = 0\n",
    "    equationlower = 0\n",
    "        \n",
    "    # Uses linear interpolation to find the approximate x value for each half peak\n",
    "    for i in range(len(halfpeaks)):\n",
    "        equationupper = (halfpeaks[i] - listlower[2*i+1])*(listupper[2*i]-listlower[2*i])\n",
    "        equationlower = (listupper[2*i+1] - listlower[2*i+1])\n",
    "        # Stores the approximate x value in the list\n",
    "        approximatex.append((equationupper/equationlower) + listlower[2*i])\n",
    "        # Calculates the distance between the peak center and the leftmost approximate x value, then multiplies by two for the full width half maximum value\n",
    "        fwhm.append((peakscenter[i] - approximatex[i])*2)\n",
    "    \n",
    "    # Run the function to calculate the average size using the calculated values\n",
    "    average = calculate_average_size(wavelength, fwhm)\n",
    "    \n",
    "    return average"
   ]
  },
  {
   "cell_type": "markdown",
   "metadata": {},
   "source": [
    "### TESTING CELL"
   ]
  },
  {
   "cell_type": "code",
   "execution_count": 3,
   "metadata": {},
   "outputs": [
    {
     "data": {
      "image/png": "[encoded data removed]",
      "text/plain": [
       "<Figure size 432x288 with 1 Axes>"
      ]
     },
     "metadata": {},
     "output_type": "display_data"
    },
    {
     "data": {
      "text/plain": [
       "6.767615248360599"
      ]
     },
     "execution_count": 3,
     "metadata": {},
     "output_type": "execute_result"
    }
   ],
   "source": [
    "XRD_Analysis('XRD_example1.txt')"
   ]
  },
  {
   "cell_type": "markdown",
   "metadata": {},
   "source": [
    "***"
   ]
  },
  {
   "cell_type": "markdown",
   "metadata": {},
   "source": [
    "## PROBLEM 2"
   ]
  },
  {
   "cell_type": "markdown",
   "metadata": {},
   "source": [
    "### CODE CELL"
   ]
  },
  {
   "cell_type": "code",
   "execution_count": 4,
   "metadata": {},
   "outputs": [],
   "source": [
    "class Date:\n",
    "    # Initializing the constructor with d, m, and y for day, month and year respectively\n",
    "    def __init__(self, d, m, y):\n",
    "        self.d = d\n",
    "        self.m = m\n",
    "        self.y = y\n",
    "    \n",
    "    # getDay method, which simply returns the day value\n",
    "    def getDay(self):\n",
    "        return self.d\n",
    "    \n",
    "    # getMonth method which returns the month value\n",
    "    def getMonth(self):\n",
    "        return self.m\n",
    "    \n",
    "    # Returns the year value\n",
    "    def getYear(self):\n",
    "        return self.y\n",
    "        \n",
    "    def Next(self):\n",
    "        # Runs several conditional statements dependent on the day and month\n",
    "        # If it is February the 28th, runs a second conditional statement\n",
    "        if self.d == 28 and self.m == 2:\n",
    "            # If it is February 28th and a leap year, go to February 29th\n",
    "            if (self.y % 4 == 0) and (self.y % 100 != 0 or self.y % 400 == 0):\n",
    "                self.d += 1\n",
    "            # Otherwise, go to the next month and set the day to the 1st\n",
    "            else:\n",
    "                self.d = 1\n",
    "                self.m += 1\n",
    "        # If it is February 29th, go to the next month and set the day to the 1st\n",
    "        elif self.d == 29 and self.m == 2:\n",
    "                self.d = 1\n",
    "                self.m += 1\n",
    "        # If it is April, June, September, or November the 30th, go to the 1st of the next month\n",
    "        elif self.d == 30 and (self.m == 4 or self.m == 6 or self.m == 9 or self.m == 11):\n",
    "            self.d = 1\n",
    "            self.m += 1\n",
    "        # If it is the 31st of the other months, go to the first of the next month\n",
    "        elif self.d == 31:\n",
    "            self.d = 1\n",
    "            self.m += 1\n",
    "        # Otherwise, simply add one to the day\n",
    "        else:\n",
    "            self.d += 1\n",
    "            \n",
    "        # If the next month is after the twelfth month, set the date to the first month of the next year\n",
    "        if self.m > 12:\n",
    "            self.m = 1\n",
    "            self.y += 1\n",
    "            \n",
    "        # Return the new date\n",
    "        return self.d, self.m, self.y\n",
    "    \n",
    "    def Prev(self):\n",
    "        # The same as Next(), but instead of checking if it is the last day of the month, check if it is the first day of the month\n",
    "        # If it is March 1st, run a conditional statement\n",
    "        if self.d == 1 and self.m == 3:\n",
    "            # If it is a leap year, go to February 29th\n",
    "            if (self.y % 4 == 0) and (self.y % 100 != 0 or self.y % 400 == 0):\n",
    "                self.d = 29\n",
    "                self.m -= 1\n",
    "            # Otherwise go to February 28th\n",
    "            else:\n",
    "                self.d = 28\n",
    "                self.m -= 1\n",
    "        # If it is the 1st of a month directly after April, June, September, or November, set the date to the 30th of the previous month\n",
    "        elif self.d == 1 and (self.m == 5 or self.m == 7 or self.m == 10 or self.m == 12):\n",
    "            self.d = 30\n",
    "            self.m -= 1\n",
    "        # If it is the 1st of a month before any of the other months, set the date to the 31st of the previous month\n",
    "        elif self.d == 1:\n",
    "            self.d = 31\n",
    "            self.m -= 1\n",
    "        # Otherwise simply remove one from the day\n",
    "        else:\n",
    "            self.d -= 1\n",
    "            \n",
    "        # If the previous month is less than the first month, go to the 12th month of the previous year\n",
    "        if self.m < 1:\n",
    "            self.m = 12\n",
    "            self.y -= 1\n",
    "            \n",
    "        # Return the new date\n",
    "        return self.d, self.m, self.y\n",
    "        \n",
    "    def isBefore(self, d):\n",
    "        # Run conditional statement to determine if the current date is before the date d\n",
    "        # First simply checks if the current year is before d's year\n",
    "        if (self.y < d.y):\n",
    "            return True\n",
    "        # If the current year is less than or equal to d's year, and the current month is less than or equal to d's month, the current date is before d\n",
    "        elif (self.m < d.m) and (self.y <= d.y):\n",
    "            return True\n",
    "        # If both the current month and year are less than or equal to d's month and year, check if the current day is before d's day\n",
    "        elif (self.d < d.d) and (self.m <= d.m) and (self.y <= d.y):\n",
    "            return True\n",
    "        # Otherwise the current date is not before d\n",
    "        else:\n",
    "            return False\n",
    "        \n",
    "    def isAfter(self, d):\n",
    "        # Same as isBefore but checking if the current date is greater than d instead\n",
    "        if (self.y > d.y):\n",
    "            return True\n",
    "        elif (self.m > d.m) and (self.y >= d.y):\n",
    "            return True\n",
    "        elif (self.d > d.d) and (self.m >= d.m) and (self.y >= d.y):\n",
    "            return True\n",
    "        else:\n",
    "            return False\n",
    "        \n",
    "    def isEqual(self, d):\n",
    "        # Checks if the year, month, and the days of the current date and d are the same\n",
    "        if (self.y == d.y) and (self.m == d.m) and (self.d == d.d):\n",
    "            return True\n",
    "        else:\n",
    "            return False\n",
    "                \n",
    "    def add_days(self, n):\n",
    "        # Mandatory try-except statement to determine whether the value n inputted is valid\n",
    "        try:\n",
    "            # Runs a while loop for the value of n\n",
    "            while n != 0:\n",
    "                # Continuously goes to the next day for n amount of times\n",
    "                self.Next()\n",
    "                n -= 1\n",
    "            # Returns the resultant date\n",
    "            return self.d, self.m, self.y\n",
    "        except:\n",
    "            print('There was an error. Please check your value.')\n",
    "            return\n",
    "    \n",
    "    def days_between(self, d):\n",
    "        days = 0\n",
    "        \n",
    "        # Runs a while statement for while the two dates are not equal\n",
    "        while (self.isEqual(d) != True):\n",
    "            # Uses Next() or Prev() depending on whether the current date is before or after d respectively\n",
    "            if self.isBefore(d) == True:\n",
    "                self.Next()\n",
    "            elif self.isAfter(d) == True:\n",
    "                self.Prev()\n",
    "            # days initialized at 0, adds on for every day when the dates are not equal\n",
    "            days += 1\n",
    "        \n",
    "        # Returns the amount of days between both dates\n",
    "        return days"
   ]
  },
  {
   "cell_type": "markdown",
   "metadata": {},
   "source": [
    "### TESTING CELL"
   ]
  },
  {
   "cell_type": "code",
   "execution_count": 5,
   "metadata": {},
   "outputs": [
    {
     "data": {
      "text/plain": [
       "(2, 1, 2274)"
      ]
     },
     "execution_count": 5,
     "metadata": {},
     "output_type": "execute_result"
    }
   ],
   "source": [
    "date1 = Date(20,3,2000)\n",
    "date2 = Date(29,12,3021)\n",
    "\n",
    "# date1.Next()\n",
    "# date1.Prev()\n",
    "\n",
    "# print(date1.getDay())\n",
    "# print(date1.getMonth())\n",
    "# print(date1.getYear())\n",
    "\n",
    "# date1.isBefore(date2)\n",
    "# date1.isAfter(date2)\n",
    "# date1.isEqual(date2)\n",
    "\n",
    "date1.add_days(99999)\n",
    "# date1.days_between(date2)"
   ]
  },
  {
   "cell_type": "markdown",
   "metadata": {},
   "source": [
    "***"
   ]
  },
  {
   "cell_type": "markdown",
   "metadata": {},
   "source": [
    "## Extra Practice Cells (note that TAs will not consider the cells below when marking)"
   ]
  },
  {
   "cell_type": "code",
   "execution_count": null,
   "metadata": {},
   "outputs": [],
   "source": []
  },
  {
   "cell_type": "code",
   "execution_count": null,
   "metadata": {},
   "outputs": [],
   "source": []
  },
  {
   "cell_type": "code",
   "execution_count": null,
   "metadata": {},
   "outputs": [],
   "source": []
  },
  {
   "cell_type": "code",
   "execution_count": null,
   "metadata": {},
   "outputs": [],
   "source": []
  },
  {
   "cell_type": "code",
   "execution_count": null,
   "metadata": {},
   "outputs": [],
   "source": []
  },
  {
   "cell_type": "code",
   "execution_count": null,
   "metadata": {},
   "outputs": [],
   "source": []
  },
  {
   "cell_type": "code",
   "execution_count": null,
   "metadata": {},
   "outputs": [],
   "source": []
  },
  {
   "cell_type": "code",
   "execution_count": null,
   "metadata": {},
   "outputs": [],
   "source": []
  }
 ],
 "metadata": {
  "kernelspec": {
   "display_name": "Python 3",
   "language": "python",
   "name": "python3"
  },
  "language_info": {
   "codemirror_mode": {
    "name": "ipython",
    "version": 3
   },
   "file_extension": ".py",
   "mimetype": "text/x-python",
   "name": "python",
   "nbconvert_exporter": "python",
   "pygments_lexer": "ipython3",
   "version": "3.5.1"
  },
  "varInspector": {
   "cols": {
    "lenName": 16,
    "lenType": 16,
    "lenVar": 40
   },
   "kernels_config": {
    "python": {
     "delete_cmd_postfix": "",
     "delete_cmd_prefix": "del ",
     "library": "var_list.py",
     "varRefreshCmd": "print(var_dic_list())"
    },
    "r": {
     "delete_cmd_postfix": ") ",
     "delete_cmd_prefix": "rm(",
     "library": "var_list.r",
     "varRefreshCmd": "cat(var_dic_list()) "
    }
   },
   "types_to_exclude": [
    "module",
    "function",
    "builtin_function_or_method",
    "instance",
    "_Feature"
   ],
   "window_display": false
  }
 },
 "nbformat": 4,
 "nbformat_minor": 2
}
